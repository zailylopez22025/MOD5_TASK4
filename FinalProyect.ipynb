{
 "cells": [
  {
   "cell_type": "markdown",
   "metadata": {},
   "source": [
    "## ZAILY LOPEZ\n",
    "Dataset: https://www.kaggle.com/jessemostipak/hotel-booking-demand"
   ]
  },
  {
   "cell_type": "markdown",
   "metadata": {},
   "source": [
    "### Context\n",
    "Have you ever wondered when the best time of year to book a hotel room is? Or the optimal length of stay in order to get the best daily rate? What if you wanted to predict whether or not a hotel was likely to receive a disproportionately high number of special requests?\n",
    "\n",
    "This hotel booking dataset can help you explore those questions!\n",
    "\n",
    "### Content\n",
    "This data set contains booking information for a city hotel and a resort hotel, and includes information such as when the booking was made, length of stay, the number of adults, children, and/or babies, and the number of available parking spaces, among other things.\n",
    "\n",
    "All personally identifying information has been removed from the data.\n",
    "\n",
    "### Acknowledgements\n",
    "The data is originally from the article Hotel Booking Demand Datasets, written by Nuno Antonio, Ana Almeida, and Luis Nunes for Data in Brief, Volume 22, February 2019.\n",
    "\n",
    "The data was downloaded and cleaned by Thomas Mock and Antoine Bichat for #TidyTuesday during the week of February 11th, 2020.\n",
    "\n",
    "### Business Question: \n",
    "Can we predict when a customer is going to cancell a reservation?"
   ]
  },
  {
   "cell_type": "markdown",
   "metadata": {},
   "source": [
    "#### Data Set: \n",
    "hotel_bookings.csv\n",
    "\n",
    "### About this file: \n",
    "This data set contains a single file which compares various booking information between two hotels: a city hotel and a resort hotel.\n",
    "\n",
    "#### Columns\n",
    "hotel: (H1 = Resort Hotel or H2 = City Hotel)\n",
    "\n",
    "is_canceled: Value indicating if the booking was canceled (1) or not (0)\n",
    "\n",
    "lead_time: Number of days that elapsed between the entering date of the booking into the PMS and the arrival date\n",
    "\n",
    "arrival_date_year: Year of arrival date\n",
    "\n",
    "arrival_date_month: Month of arrival date\n",
    "\n",
    "arrival_date_week_number: Week number of year for arrival date\n",
    "\n",
    "arrival_date_day_of_month: Day of arrival date\n",
    "\n",
    "stays_in_weekend_nights: Number of weekend nights (Saturday or Sunday) the guest stayed or booked to stay at the hotel\n",
    "\n",
    "stays_in_week_nights: Number of week nights (Monday to Friday) the guest stayed or booked to stay at the hotel\n",
    "\n",
    "adults: Number of adults\n",
    "\n",
    "children: Number of children\n",
    "\n",
    "babies: Number of babies\n",
    "\n",
    "meal: Type of meal booked. Categories are presented in standard hospitality meal packages: Undefined/SC – no meal package; BB – \n",
    "\n",
    "Bed & Breakfast; HB – Half board (breakfast and one other meal – usually dinner); FB – Full board (breakfast, lunch and dinner)\n",
    "\n",
    "country: Country of origin. Categories are represented in the ISO 3155–3:2013 format\n",
    "\n",
    "market_segment: Market segment designation. In categories, the term “TA” means “Travel Agents” and “TO” means “Tour Operators”\n",
    "\n",
    "distribution_channel: Booking distribution channel. The term “TA” means “Travel Agents” and “TO” means “Tour Operators”\n",
    "\n",
    "is_repeated_guestValue indicating if the booking name was from a repeated guest (1) or not (0)\n",
    "\n",
    "previous_cancellations: Number of previous bookings that were cancelled by the customer prior to the current booking\n",
    "\n",
    "previous_bookings_not_canceled: Number of previous bookings not cancelled by the customer prior to the current booking\n",
    "\n",
    "reserved_room_type: Code of room type reserved. Code is presented instead of designation for anonymity reasons.\n",
    "\n",
    "assigned_room_type: Code for the type of room assigned to the booking. Sometimes the assigned room type differs from the \n",
    "\n",
    "reserved room type due to hotel operation reasons (e.g. overbooking) or by customer request. Code is presented instead of \n",
    "\n",
    "designation for anonymity reasons.\n",
    "\n",
    "booking_changes: Number of changes/amendments made to the booking from the moment the booking was entered on the PMS until the \n",
    "\n",
    "moment of check-in or cancellation\n",
    "\n",
    "deposit_type: Indication on if the customer made a deposit to guarantee the booking. This variable can assume three categories: \n",
    "\n",
    "No Deposit – no deposit was made; Non Refund – a deposit was made in the value of the total stay cost; Refundable – a deposit \n",
    "was made with a value under the total cost of stay.\n",
    "\n",
    "agent: ID of the travel agency that made the booking\n",
    "\n",
    "company: ID of the company/entity that made the booking or responsible for paying the booking. ID is presented instead of \n",
    "designation for anonymity reasons\n",
    "\n",
    "days_in_waiting_list: Number of days the booking was in the waiting list before it was confirmed to the customer\n",
    "\n",
    "customer_type: Type of booking, assuming one of four categories:\n",
    "        Contract - when the booking has an allotment or other type of contract associated to it; \n",
    "        Group – when the booking is associated to a group; \n",
    "        Transient – when the booking is not part of a group or contract, and is not associated to other transient booking;\n",
    "        Transient-party – when the booking is transient, but is associated to at least other transient booking\n",
    "\n",
    "adr: Average Daily Rate as defined by dividing the sum of all lodging transactions by the total number of staying nights\n",
    "\n",
    "required_car_parking_spaces: Number of car parking spaces required by the customer\n",
    "\n",
    "total_of_special_requests: Number of special requests made by the customer (e.g. twin bed or high floor)\n",
    "\n",
    "reservation_status: Reservation last status, assuming one of three categories: Canceled – booking was canceled by the customer; \n",
    "\n",
    "Check-Out – customer has checked in but already departed; No-Show – customer did not check-in and did inform the hotel of the reason why\n",
    "\n",
    "reservation_status_date: Date at which the last status was set. This variable can be used in conjunction with the \n",
    "\n",
    "ReservationStatus to understand when was the booking canceled or when did the customer checked-out of the hotel"
   ]
  },
  {
   "cell_type": "markdown",
   "metadata": {},
   "source": [
    "## Final Proyect "
   ]
  },
  {
   "cell_type": "markdown",
   "metadata": {},
   "source": [
    "## Contents\n",
    "- [1. Libraries](#lib) \n",
    "- [2. Cleaning and Pre-processing](#cleaning)\n",
    "- [3. Exploratory Data Aalysis (EDA)](#eda)\n",
    "- [4. Data collection, pre-processing and feature engineering](#datacol)\n",
    "- [5. Predictive Modeling and Evaluation (the whole process)](#predmodel)\n",
    "- [6. Model selection](#modelsel)\n",
    "    - [6.1 Model 1 - RFC](#model1)\n",
    "    - [6.2 Model 2 - SVM](#model2)    \n",
    "    - [6.3 Model 3 - Neural Network](#model3)  \n",
    "    - [6.4 Model 4 - Gradient Boosting](#model4)  \n",
    "- [7. Cross validation](#crossval)\n",
    "\n"
   ]
  },
  {
   "cell_type": "markdown",
   "metadata": {},
   "source": [
    "<a name=\"lib\"></a>\n",
    "### 1. Libraries"
   ]
  },
  {
   "cell_type": "code",
   "execution_count": 1,
   "metadata": {},
   "outputs": [],
   "source": [
    "#Imports from Module 3 \n",
    "import math\n",
    "import seaborn as sns \n",
    "%matplotlib inline\n",
    "import numpy as np\n",
    "import pandas as pd\n",
    "\n",
    "\n",
    "#Imports from Module 3 \n",
    "#imports \n",
    "#numpy, pandas, scipy, math, matplotlib\n",
    "import scipy\n",
    "from math import sqrt\n",
    "import matplotlib.pyplot as plt\n",
    "\n",
    "#estimators\n",
    "from sklearn.ensemble import RandomForestRegressor, RandomForestClassifier\n",
    "\n",
    "from sklearn.linear_model import LinearRegression\n",
    "from sklearn.neural_network import MLPClassifier\n",
    "\n",
    "from sklearn.svm import SVR, SVC\n",
    "from sklearn import svm \n",
    "from sklearn import linear_model\n",
    "\n",
    "from sklearn.preprocessing import StandardScaler, LabelEncoder\n",
    "\n",
    "\n",
    "#model metrics \n",
    "from sklearn.metrics import mean_squared_error, r2_score, confusion_matrix, classification_report\n",
    "\n",
    "from sklearn.model_selection import cross_val_score\n",
    "\n",
    "#cross validation\n",
    "#from sklearn.cross_validation import train_test_split\n",
    "from sklearn.model_selection import train_test_split\n",
    "%matplotlib inline\n",
    "\n",
    "#GradientBoostingClassifier \n",
    "from sklearn.datasets import make_hastie_10_2\n",
    "from sklearn.ensemble import GradientBoostingClassifier\n",
    "\n",
    "from math import sqrt\n",
    "\n",
    "#from sklearn.metrics import confusion_matrix\n",
    "from sklearn.metrics import accuracy_score"
   ]
  },
  {
   "cell_type": "markdown",
   "metadata": {},
   "source": [
    "<a name=\"cleaning\"></a>\n",
    "### 2. Cleaning and Pre-processing"
   ]
  },
  {
   "cell_type": "code",
   "execution_count": 2,
   "metadata": {
    "scrolled": true
   },
   "outputs": [
    {
     "data": {
      "text/html": [
       "<div>\n",
       "<style scoped>\n",
       "    .dataframe tbody tr th:only-of-type {\n",
       "        vertical-align: middle;\n",
       "    }\n",
       "\n",
       "    .dataframe tbody tr th {\n",
       "        vertical-align: top;\n",
       "    }\n",
       "\n",
       "    .dataframe thead th {\n",
       "        text-align: right;\n",
       "    }\n",
       "</style>\n",
       "<table border=\"1\" class=\"dataframe\">\n",
       "  <thead>\n",
       "    <tr style=\"text-align: right;\">\n",
       "      <th></th>\n",
       "      <th>hotel</th>\n",
       "      <th>is_canceled</th>\n",
       "      <th>lead_time</th>\n",
       "      <th>arrival_date_year</th>\n",
       "      <th>arrival_date_month</th>\n",
       "      <th>arrival_date_week_number</th>\n",
       "      <th>arrival_date_day_of_month</th>\n",
       "      <th>stays_in_weekend_nights</th>\n",
       "      <th>stays_in_week_nights</th>\n",
       "      <th>adults</th>\n",
       "      <th>...</th>\n",
       "      <th>deposit_type</th>\n",
       "      <th>agent</th>\n",
       "      <th>company</th>\n",
       "      <th>days_in_waiting_list</th>\n",
       "      <th>customer_type</th>\n",
       "      <th>adr</th>\n",
       "      <th>required_car_parking_spaces</th>\n",
       "      <th>total_of_special_requests</th>\n",
       "      <th>reservation_status</th>\n",
       "      <th>reservation_status_date</th>\n",
       "    </tr>\n",
       "  </thead>\n",
       "  <tbody>\n",
       "    <tr>\n",
       "      <th>0</th>\n",
       "      <td>Resort Hotel</td>\n",
       "      <td>0</td>\n",
       "      <td>342</td>\n",
       "      <td>2015</td>\n",
       "      <td>July</td>\n",
       "      <td>27</td>\n",
       "      <td>1</td>\n",
       "      <td>0</td>\n",
       "      <td>0</td>\n",
       "      <td>2</td>\n",
       "      <td>...</td>\n",
       "      <td>No Deposit</td>\n",
       "      <td>NaN</td>\n",
       "      <td>NaN</td>\n",
       "      <td>0</td>\n",
       "      <td>Transient</td>\n",
       "      <td>0.0</td>\n",
       "      <td>0</td>\n",
       "      <td>0</td>\n",
       "      <td>CheckOut</td>\n",
       "      <td>7/1/2015</td>\n",
       "    </tr>\n",
       "    <tr>\n",
       "      <th>1</th>\n",
       "      <td>Resort Hotel</td>\n",
       "      <td>0</td>\n",
       "      <td>737</td>\n",
       "      <td>2015</td>\n",
       "      <td>July</td>\n",
       "      <td>27</td>\n",
       "      <td>1</td>\n",
       "      <td>0</td>\n",
       "      <td>0</td>\n",
       "      <td>2</td>\n",
       "      <td>...</td>\n",
       "      <td>No Deposit</td>\n",
       "      <td>NaN</td>\n",
       "      <td>NaN</td>\n",
       "      <td>0</td>\n",
       "      <td>Transient</td>\n",
       "      <td>0.0</td>\n",
       "      <td>0</td>\n",
       "      <td>0</td>\n",
       "      <td>CheckOut</td>\n",
       "      <td>7/1/2015</td>\n",
       "    </tr>\n",
       "    <tr>\n",
       "      <th>2</th>\n",
       "      <td>Resort Hotel</td>\n",
       "      <td>0</td>\n",
       "      <td>7</td>\n",
       "      <td>2015</td>\n",
       "      <td>July</td>\n",
       "      <td>27</td>\n",
       "      <td>1</td>\n",
       "      <td>0</td>\n",
       "      <td>1</td>\n",
       "      <td>1</td>\n",
       "      <td>...</td>\n",
       "      <td>No Deposit</td>\n",
       "      <td>NaN</td>\n",
       "      <td>NaN</td>\n",
       "      <td>0</td>\n",
       "      <td>Transient</td>\n",
       "      <td>75.0</td>\n",
       "      <td>0</td>\n",
       "      <td>0</td>\n",
       "      <td>CheckOut</td>\n",
       "      <td>7/2/2015</td>\n",
       "    </tr>\n",
       "    <tr>\n",
       "      <th>3</th>\n",
       "      <td>Resort Hotel</td>\n",
       "      <td>0</td>\n",
       "      <td>13</td>\n",
       "      <td>2015</td>\n",
       "      <td>July</td>\n",
       "      <td>27</td>\n",
       "      <td>1</td>\n",
       "      <td>0</td>\n",
       "      <td>1</td>\n",
       "      <td>1</td>\n",
       "      <td>...</td>\n",
       "      <td>No Deposit</td>\n",
       "      <td>304.0</td>\n",
       "      <td>NaN</td>\n",
       "      <td>0</td>\n",
       "      <td>Transient</td>\n",
       "      <td>75.0</td>\n",
       "      <td>0</td>\n",
       "      <td>0</td>\n",
       "      <td>CheckOut</td>\n",
       "      <td>7/2/2015</td>\n",
       "    </tr>\n",
       "    <tr>\n",
       "      <th>4</th>\n",
       "      <td>Resort Hotel</td>\n",
       "      <td>0</td>\n",
       "      <td>14</td>\n",
       "      <td>2015</td>\n",
       "      <td>July</td>\n",
       "      <td>27</td>\n",
       "      <td>1</td>\n",
       "      <td>0</td>\n",
       "      <td>2</td>\n",
       "      <td>2</td>\n",
       "      <td>...</td>\n",
       "      <td>No Deposit</td>\n",
       "      <td>240.0</td>\n",
       "      <td>NaN</td>\n",
       "      <td>0</td>\n",
       "      <td>Transient</td>\n",
       "      <td>98.0</td>\n",
       "      <td>0</td>\n",
       "      <td>1</td>\n",
       "      <td>CheckOut</td>\n",
       "      <td>7/3/2015</td>\n",
       "    </tr>\n",
       "  </tbody>\n",
       "</table>\n",
       "<p>5 rows × 32 columns</p>\n",
       "</div>"
      ],
      "text/plain": [
       "          hotel  is_canceled  lead_time  arrival_date_year arrival_date_month  \\\n",
       "0  Resort Hotel            0        342               2015               July   \n",
       "1  Resort Hotel            0        737               2015               July   \n",
       "2  Resort Hotel            0          7               2015               July   \n",
       "3  Resort Hotel            0         13               2015               July   \n",
       "4  Resort Hotel            0         14               2015               July   \n",
       "\n",
       "   arrival_date_week_number  arrival_date_day_of_month  \\\n",
       "0                        27                          1   \n",
       "1                        27                          1   \n",
       "2                        27                          1   \n",
       "3                        27                          1   \n",
       "4                        27                          1   \n",
       "\n",
       "   stays_in_weekend_nights  stays_in_week_nights  adults  ...  deposit_type  \\\n",
       "0                        0                     0       2  ...    No Deposit   \n",
       "1                        0                     0       2  ...    No Deposit   \n",
       "2                        0                     1       1  ...    No Deposit   \n",
       "3                        0                     1       1  ...    No Deposit   \n",
       "4                        0                     2       2  ...    No Deposit   \n",
       "\n",
       "   agent company days_in_waiting_list customer_type   adr  \\\n",
       "0    NaN     NaN                    0     Transient   0.0   \n",
       "1    NaN     NaN                    0     Transient   0.0   \n",
       "2    NaN     NaN                    0     Transient  75.0   \n",
       "3  304.0     NaN                    0     Transient  75.0   \n",
       "4  240.0     NaN                    0     Transient  98.0   \n",
       "\n",
       "   required_car_parking_spaces  total_of_special_requests  reservation_status  \\\n",
       "0                            0                          0            CheckOut   \n",
       "1                            0                          0            CheckOut   \n",
       "2                            0                          0            CheckOut   \n",
       "3                            0                          0            CheckOut   \n",
       "4                            0                          1            CheckOut   \n",
       "\n",
       "  reservation_status_date  \n",
       "0                7/1/2015  \n",
       "1                7/1/2015  \n",
       "2                7/2/2015  \n",
       "3                7/2/2015  \n",
       "4                7/3/2015  \n",
       "\n",
       "[5 rows x 32 columns]"
      ]
     },
     "execution_count": 2,
     "metadata": {},
     "output_type": "execute_result"
    }
   ],
   "source": [
    "#ds = pd.io.parsers.read_csv(\"default of credit card clients.csv\")\n",
    "raw = pd.read_csv('hotel_bookings.csv')\n",
    "raw.head()"
   ]
  },
  {
   "cell_type": "code",
   "execution_count": 3,
   "metadata": {},
   "outputs": [
    {
     "name": "stdout",
     "output_type": "stream",
     "text": [
      "<class 'pandas.core.frame.DataFrame'>\n",
      "RangeIndex: 119390 entries, 0 to 119389\n",
      "Data columns (total 32 columns):\n",
      "hotel                             119390 non-null object\n",
      "is_canceled                       119390 non-null int64\n",
      "lead_time                         119390 non-null int64\n",
      "arrival_date_year                 119390 non-null int64\n",
      "arrival_date_month                119390 non-null object\n",
      "arrival_date_week_number          119390 non-null int64\n",
      "arrival_date_day_of_month         119390 non-null int64\n",
      "stays_in_weekend_nights           119390 non-null int64\n",
      "stays_in_week_nights              119390 non-null int64\n",
      "adults                            119390 non-null int64\n",
      "children                          119386 non-null float64\n",
      "babies                            119390 non-null int64\n",
      "meal                              119390 non-null object\n",
      "country                           118902 non-null object\n",
      "market_segment                    119390 non-null object\n",
      "distribution_channel              119390 non-null object\n",
      "is_repeated_guest                 119390 non-null int64\n",
      "previous_cancellations            119390 non-null int64\n",
      "previous_bookings_not_canceled    119390 non-null int64\n",
      "reserved_room_type                119390 non-null object\n",
      "assigned_room_type                119390 non-null object\n",
      "booking_changes                   119390 non-null int64\n",
      "deposit_type                      119390 non-null object\n",
      "agent                             103050 non-null float64\n",
      "company                           6797 non-null float64\n",
      "days_in_waiting_list              119390 non-null int64\n",
      "customer_type                     119390 non-null object\n",
      "adr                               119390 non-null float64\n",
      "required_car_parking_spaces       119390 non-null int64\n",
      "total_of_special_requests         119390 non-null int64\n",
      "reservation_status                119390 non-null object\n",
      "reservation_status_date           119390 non-null object\n",
      "dtypes: float64(4), int64(16), object(12)\n",
      "memory usage: 29.1+ MB\n"
     ]
    }
   ],
   "source": [
    "raw.info()"
   ]
  },
  {
   "cell_type": "markdown",
   "metadata": {},
   "source": [
    "<a name=\"eda\"></a>\n",
    "## 3. Exploratory Data Aalysis (EDA)"
   ]
  },
  {
   "cell_type": "code",
   "execution_count": 4,
   "metadata": {},
   "outputs": [
    {
     "data": {
      "image/png": "[encoded data removed]",
      "text/plain": [
       "<Figure size 540x360 with 1 Axes>"
      ]
     },
     "metadata": {
      "needs_background": "light"
     },
     "output_type": "display_data"
    }
   ],
   "source": [
    "#Graphic to Type of Hotel reservation\n",
    "h = sns.catplot('hotel', data=raw, kind='count', aspect=1.5)\n",
    "\n",
    "##Majority of the reservation are been done in City Hotel (almost double). "
   ]
  },
  {
   "cell_type": "code",
   "execution_count": 5,
   "metadata": {},
   "outputs": [
    {
     "data": {
      "image/png": "[encoded data removed]",
      "text/plain": [
       "<Figure size 540x360 with 1 Axes>"
      ]
     },
     "metadata": {
      "needs_background": "light"
     },
     "output_type": "display_data"
    }
   ],
   "source": [
    "#Graphic cancellation of reservation\n",
    "#is_canceledValue indicating if the booking was canceled (1) or not (0)\n",
    "h = sns.catplot('is_canceled', data=raw, kind='count', aspect=1.5)\n",
    "\n",
    "#Almost half of the reservations are been cancelled"
   ]
  },
  {
   "cell_type": "code",
   "execution_count": 6,
   "metadata": {
    "scrolled": true
   },
   "outputs": [
    {
     "data": {
      "image/png": "[encoded data removed]",
      "text/plain": [
       "<Figure size 403.2x288 with 2 Axes>"
      ]
     },
     "metadata": {
      "needs_background": "light"
     },
     "output_type": "display_data"
    }
   ],
   "source": [
    "#Graphic cancellation of reservation per type of hotel city / resort \n",
    "g = sns.catplot(x='is_canceled', col='hotel',\n",
    "                data=raw, kind='count',\n",
    "                height=4, aspect=.7);\n",
    "\n",
    "\n",
    "## Very high amount of cancelation are for City Hotel. "
   ]
  },
  {
   "cell_type": "code",
   "execution_count": 7,
   "metadata": {
    "scrolled": true
   },
   "outputs": [
    {
     "data": {
      "image/png": "[encoded data removed]",
      "text/plain": [
       "<Figure size 1555.2x432 with 2 Axes>"
      ]
     },
     "metadata": {
      "needs_background": "light"
     },
     "output_type": "display_data"
    }
   ],
   "source": [
    "##Months reservations for the Resort Hotel and City Hotel\n",
    "g = sns.catplot(x='arrival_date_month', col='hotel',\n",
    "                data=raw, kind='count', height=6, aspect=1.8)\n",
    "              \n",
    "plt.show()\n",
    "\n",
    "\n",
    "\n"
   ]
  },
  {
   "cell_type": "code",
   "execution_count": 8,
   "metadata": {},
   "outputs": [
    {
     "data": {
      "image/png": "[encoded data removed]",
      "text/plain": [
       "<Figure size 540x360 with 1 Axes>"
      ]
     },
     "metadata": {
      "needs_background": "light"
     },
     "output_type": "display_data"
    }
   ],
   "source": [
    "#stays_in_weekend_nights: Number of weekend nights (Saturday or Sunday) the guest stayed or booked to stay at the hotel\n",
    "#Graphic \n",
    "siweekendn = sns.catplot('stays_in_weekend_nights', data=raw, kind='count', aspect=1.5)\n",
    "\n",
    "#Reservations done during the weekend majority are for 0 days or 2days or 1day. "
   ]
  },
  {
   "cell_type": "code",
   "execution_count": 9,
   "metadata": {
    "scrolled": true
   },
   "outputs": [
    {
     "data": {
      "image/png": "[encoded data removed]",
      "text/plain": [
       "<Figure size 540x360 with 1 Axes>"
      ]
     },
     "metadata": {
      "needs_background": "light"
     },
     "output_type": "display_data"
    }
   ],
   "source": [
    "#stays_in_week_nights: Number of week nights (Monday to Friday) the guest stayed or booked to stay at the hotel\n",
    "#Graphic \n",
    "siweekn = sns.catplot('stays_in_week_nights', data=raw, kind='count', aspect=1.5)\n",
    "\n",
    "#Majority of the reservations done during the week are for 2 or 1 night. "
   ]
  },
  {
   "cell_type": "code",
   "execution_count": 10,
   "metadata": {},
   "outputs": [
    {
     "data": {
      "image/png": "[encoded data removed]",
      "text/plain": [
       "<Figure size 540x360 with 1 Axes>"
      ]
     },
     "metadata": {
      "needs_background": "light"
     },
     "output_type": "display_data"
    }
   ],
   "source": [
    "#Quantity of adults per reservation\n",
    "#Graphic \n",
    "adult = sns.catplot('adults', data=raw, kind='count', aspect=1.5)\n",
    "\n",
    "#Majority of the reservations are for 2 or 1 adult. "
   ]
  },
  {
   "cell_type": "code",
   "execution_count": 11,
   "metadata": {
    "scrolled": true
   },
   "outputs": [
    {
     "data": {
      "image/png": "[encoded data removed]",
      "text/plain": [
       "<Figure size 540x360 with 1 Axes>"
      ]
     },
     "metadata": {
      "needs_background": "light"
     },
     "output_type": "display_data"
    }
   ],
   "source": [
    "#Quantity of childers per reservation\n",
    "#Graphic \n",
    "adult = sns.catplot('children', data=raw, kind='count', aspect=1.5)\n",
    "\n",
    "#Majority of the reservations are 0 children, less than 10000 reservations includes a childer or 2 children. "
   ]
  },
  {
   "cell_type": "code",
   "execution_count": 12,
   "metadata": {},
   "outputs": [
    {
     "data": {
      "image/png": "[encoded data removed]",
      "text/plain": [
       "<Figure size 540x360 with 1 Axes>"
      ]
     },
     "metadata": {
      "needs_background": "light"
     },
     "output_type": "display_data"
    }
   ],
   "source": [
    "#Type of meals reserved \n",
    "#Graphic \n",
    "adult = sns.catplot('meal', data=raw, kind='count', aspect=1.5)\n",
    "\n",
    "# Majority of the meals reserved are BB – Bed & Breakfast"
   ]
  },
  {
   "cell_type": "code",
   "execution_count": 13,
   "metadata": {},
   "outputs": [
    {
     "data": {
      "image/png": "[encoded data removed]",
      "text/plain": [
       "<Figure size 432x288 with 1 Axes>"
      ]
     },
     "metadata": {
      "needs_background": "light"
     },
     "output_type": "display_data"
    }
   ],
   "source": [
    "#Origin country of the customers\n",
    "#Graphic \n",
    "country = sns.countplot(x='country',data=raw,order=pd.value_counts(raw['country']).iloc[:10].index)\n",
    "\n",
    "# Majority of the customers are from Portugal, United Kingdom or France. "
   ]
  },
  {
   "cell_type": "code",
   "execution_count": 14,
   "metadata": {},
   "outputs": [
    {
     "data": {
      "image/png": "[encoded data removed]",
      "text/plain": [
       "<Figure size 432x288 with 1 Axes>"
      ]
     },
     "metadata": {
      "needs_background": "light"
     },
     "output_type": "display_data"
    }
   ],
   "source": [
    "##Market Segment \n",
    "#Graphic \n",
    "mrkt_seg = sns.countplot(raw['market_segment'],  order = raw['market_segment'].value_counts().index)\n",
    "plt.show()\n",
    "\n",
    "# Majority of the reservations are for: TA:  means Travel Agents\n"
   ]
  },
  {
   "cell_type": "code",
   "execution_count": 15,
   "metadata": {},
   "outputs": [
    {
     "data": {
      "image/png": "[encoded data removed]",
      "text/plain": [
       "<Figure size 864x648 with 1 Axes>"
      ]
     },
     "metadata": {
      "needs_background": "light"
     },
     "output_type": "display_data"
    }
   ],
   "source": [
    "##Reserved Room Type\n",
    "#Graphic \n",
    "plt.figure(figsize=(12 ,9 ))\n",
    "rsrv_room_type = sns.countplot(raw['reserved_room_type'],  order = raw['reserved_room_type'].value_counts().index)\n",
    "# Majority of the reservations room type is A\n",
    "\n"
   ]
  },
  {
   "cell_type": "code",
   "execution_count": 16,
   "metadata": {},
   "outputs": [
    {
     "data": {
      "image/png": "[encoded data removed]",
      "text/plain": [
       "<Figure size 864x648 with 1 Axes>"
      ]
     },
     "metadata": {
      "needs_background": "light"
     },
     "output_type": "display_data"
    }
   ],
   "source": [
    "##Booking changes \n",
    "#Graphic \n",
    "plt.figure(figsize=(12 ,9 ))\n",
    "book_changes = sns.countplot(raw['booking_changes'],  order = raw['booking_changes'].value_counts().index)\n",
    "plt.show()\n",
    "\n",
    "# Majority no changes on the boking\n"
   ]
  },
  {
   "cell_type": "code",
   "execution_count": 17,
   "metadata": {},
   "outputs": [
    {
     "data": {
      "image/png": "[encoded data removed]",
      "text/plain": [
       "<Figure size 403.2x288 with 2 Axes>"
      ]
     },
     "metadata": {
      "needs_background": "light"
     },
     "output_type": "display_data"
    }
   ],
   "source": [
    "##Reservation Status by type of hotel\n",
    "#Graphic \n",
    "rsrv_sts = sns.catplot(x='reservation_status', col='hotel',\n",
    "                data=raw, kind='count',\n",
    "                height=4, aspect=.7);\n",
    "\n",
    "# Majority did the checkout for each type of hotel"
   ]
  },
  {
   "cell_type": "markdown",
   "metadata": {},
   "source": [
    "<a name=\"datacol\"></a>\n",
    "### 4. Data collection, pre-processing and feature engineering"
   ]
  },
  {
   "cell_type": "code",
   "execution_count": 18,
   "metadata": {},
   "outputs": [
    {
     "data": {
      "text/plain": [
       "<matplotlib.axes._subplots.AxesSubplot at 0x222e14be358>"
      ]
     },
     "execution_count": 18,
     "metadata": {},
     "output_type": "execute_result"
    },
    {
     "data": {
      "image/png": "[encoded data removed]",
      "text/plain": [
       "<Figure size 1080x720 with 2 Axes>"
      ]
     },
     "metadata": {
      "needs_background": "light"
     },
     "output_type": "display_data"
    }
   ],
   "source": [
    "##Correlation matrix \n",
    "plt.figure(figsize=(15 ,10 ))\n",
    "sns.heatmap(raw.corr())"
   ]
  },
  {
   "cell_type": "code",
   "execution_count": 19,
   "metadata": {
    "scrolled": true
   },
   "outputs": [
    {
     "data": {
      "text/html": [
       "<div>\n",
       "<style scoped>\n",
       "    .dataframe tbody tr th:only-of-type {\n",
       "        vertical-align: middle;\n",
       "    }\n",
       "\n",
       "    .dataframe tbody tr th {\n",
       "        vertical-align: top;\n",
       "    }\n",
       "\n",
       "    .dataframe thead th {\n",
       "        text-align: right;\n",
       "    }\n",
       "</style>\n",
       "<table border=\"1\" class=\"dataframe\">\n",
       "  <thead>\n",
       "    <tr style=\"text-align: right;\">\n",
       "      <th></th>\n",
       "      <th>is_canceled</th>\n",
       "      <th>lead_time</th>\n",
       "      <th>arrival_date_year</th>\n",
       "      <th>arrival_date_week_number</th>\n",
       "      <th>arrival_date_day_of_month</th>\n",
       "      <th>stays_in_weekend_nights</th>\n",
       "      <th>stays_in_week_nights</th>\n",
       "      <th>adults</th>\n",
       "      <th>children</th>\n",
       "      <th>babies</th>\n",
       "      <th>is_repeated_guest</th>\n",
       "      <th>previous_cancellations</th>\n",
       "      <th>previous_bookings_not_canceled</th>\n",
       "      <th>booking_changes</th>\n",
       "      <th>agent</th>\n",
       "      <th>company</th>\n",
       "      <th>days_in_waiting_list</th>\n",
       "      <th>adr</th>\n",
       "      <th>required_car_parking_spaces</th>\n",
       "      <th>total_of_special_requests</th>\n",
       "    </tr>\n",
       "  </thead>\n",
       "  <tbody>\n",
       "    <tr>\n",
       "      <th>is_canceled</th>\n",
       "      <td>1.000000</td>\n",
       "      <td>0.293123</td>\n",
       "      <td>0.016660</td>\n",
       "      <td>0.008148</td>\n",
       "      <td>-0.006130</td>\n",
       "      <td>-0.001791</td>\n",
       "      <td>0.024765</td>\n",
       "      <td>0.060017</td>\n",
       "      <td>0.005048</td>\n",
       "      <td>-0.032491</td>\n",
       "      <td>-0.084793</td>\n",
       "      <td>0.110133</td>\n",
       "      <td>-0.057358</td>\n",
       "      <td>-0.144381</td>\n",
       "      <td>-0.083114</td>\n",
       "      <td>-0.020642</td>\n",
       "      <td>0.054186</td>\n",
       "      <td>0.047557</td>\n",
       "      <td>-0.195498</td>\n",
       "      <td>-0.234658</td>\n",
       "    </tr>\n",
       "    <tr>\n",
       "      <th>lead_time</th>\n",
       "      <td>0.293123</td>\n",
       "      <td>1.000000</td>\n",
       "      <td>0.040142</td>\n",
       "      <td>0.126871</td>\n",
       "      <td>0.002268</td>\n",
       "      <td>0.085671</td>\n",
       "      <td>0.165799</td>\n",
       "      <td>0.119519</td>\n",
       "      <td>-0.037622</td>\n",
       "      <td>-0.020915</td>\n",
       "      <td>-0.124410</td>\n",
       "      <td>0.086042</td>\n",
       "      <td>-0.073548</td>\n",
       "      <td>0.000149</td>\n",
       "      <td>-0.069741</td>\n",
       "      <td>0.151464</td>\n",
       "      <td>0.170084</td>\n",
       "      <td>-0.063077</td>\n",
       "      <td>-0.116451</td>\n",
       "      <td>-0.095712</td>\n",
       "    </tr>\n",
       "    <tr>\n",
       "      <th>arrival_date_year</th>\n",
       "      <td>0.016660</td>\n",
       "      <td>0.040142</td>\n",
       "      <td>1.000000</td>\n",
       "      <td>-0.540561</td>\n",
       "      <td>-0.000221</td>\n",
       "      <td>0.021497</td>\n",
       "      <td>0.030883</td>\n",
       "      <td>0.029635</td>\n",
       "      <td>0.054624</td>\n",
       "      <td>-0.013192</td>\n",
       "      <td>0.010341</td>\n",
       "      <td>-0.119822</td>\n",
       "      <td>0.029218</td>\n",
       "      <td>0.030872</td>\n",
       "      <td>0.063457</td>\n",
       "      <td>0.259095</td>\n",
       "      <td>-0.056497</td>\n",
       "      <td>0.197580</td>\n",
       "      <td>-0.013684</td>\n",
       "      <td>0.108531</td>\n",
       "    </tr>\n",
       "    <tr>\n",
       "      <th>arrival_date_week_number</th>\n",
       "      <td>0.008148</td>\n",
       "      <td>0.126871</td>\n",
       "      <td>-0.540561</td>\n",
       "      <td>1.000000</td>\n",
       "      <td>0.066809</td>\n",
       "      <td>0.018208</td>\n",
       "      <td>0.015558</td>\n",
       "      <td>0.025909</td>\n",
       "      <td>0.005518</td>\n",
       "      <td>0.010395</td>\n",
       "      <td>-0.030131</td>\n",
       "      <td>0.035501</td>\n",
       "      <td>-0.020904</td>\n",
       "      <td>0.005508</td>\n",
       "      <td>-0.031201</td>\n",
       "      <td>-0.076760</td>\n",
       "      <td>0.022933</td>\n",
       "      <td>0.075791</td>\n",
       "      <td>0.001920</td>\n",
       "      <td>0.026149</td>\n",
       "    </tr>\n",
       "    <tr>\n",
       "      <th>arrival_date_day_of_month</th>\n",
       "      <td>-0.006130</td>\n",
       "      <td>0.002268</td>\n",
       "      <td>-0.000221</td>\n",
       "      <td>0.066809</td>\n",
       "      <td>1.000000</td>\n",
       "      <td>-0.016354</td>\n",
       "      <td>-0.028174</td>\n",
       "      <td>-0.001566</td>\n",
       "      <td>0.014544</td>\n",
       "      <td>-0.000230</td>\n",
       "      <td>-0.006145</td>\n",
       "      <td>-0.027011</td>\n",
       "      <td>-0.000300</td>\n",
       "      <td>0.010613</td>\n",
       "      <td>0.001487</td>\n",
       "      <td>0.044858</td>\n",
       "      <td>0.022728</td>\n",
       "      <td>0.030245</td>\n",
       "      <td>0.008683</td>\n",
       "      <td>0.003062</td>\n",
       "    </tr>\n",
       "    <tr>\n",
       "      <th>stays_in_weekend_nights</th>\n",
       "      <td>-0.001791</td>\n",
       "      <td>0.085671</td>\n",
       "      <td>0.021497</td>\n",
       "      <td>0.018208</td>\n",
       "      <td>-0.016354</td>\n",
       "      <td>1.000000</td>\n",
       "      <td>0.498969</td>\n",
       "      <td>0.091871</td>\n",
       "      <td>0.045793</td>\n",
       "      <td>0.018483</td>\n",
       "      <td>-0.087239</td>\n",
       "      <td>-0.012775</td>\n",
       "      <td>-0.042715</td>\n",
       "      <td>0.063281</td>\n",
       "      <td>0.140739</td>\n",
       "      <td>0.066749</td>\n",
       "      <td>-0.054151</td>\n",
       "      <td>0.049342</td>\n",
       "      <td>-0.018554</td>\n",
       "      <td>0.072671</td>\n",
       "    </tr>\n",
       "    <tr>\n",
       "      <th>stays_in_week_nights</th>\n",
       "      <td>0.024765</td>\n",
       "      <td>0.165799</td>\n",
       "      <td>0.030883</td>\n",
       "      <td>0.015558</td>\n",
       "      <td>-0.028174</td>\n",
       "      <td>0.498969</td>\n",
       "      <td>1.000000</td>\n",
       "      <td>0.092976</td>\n",
       "      <td>0.044203</td>\n",
       "      <td>0.020191</td>\n",
       "      <td>-0.097245</td>\n",
       "      <td>-0.013992</td>\n",
       "      <td>-0.048743</td>\n",
       "      <td>0.096209</td>\n",
       "      <td>0.182382</td>\n",
       "      <td>0.182211</td>\n",
       "      <td>-0.002020</td>\n",
       "      <td>0.065237</td>\n",
       "      <td>-0.024859</td>\n",
       "      <td>0.068192</td>\n",
       "    </tr>\n",
       "    <tr>\n",
       "      <th>adults</th>\n",
       "      <td>0.060017</td>\n",
       "      <td>0.119519</td>\n",
       "      <td>0.029635</td>\n",
       "      <td>0.025909</td>\n",
       "      <td>-0.001566</td>\n",
       "      <td>0.091871</td>\n",
       "      <td>0.092976</td>\n",
       "      <td>1.000000</td>\n",
       "      <td>0.030447</td>\n",
       "      <td>0.018146</td>\n",
       "      <td>-0.146426</td>\n",
       "      <td>-0.006738</td>\n",
       "      <td>-0.107983</td>\n",
       "      <td>-0.051673</td>\n",
       "      <td>-0.035594</td>\n",
       "      <td>0.207793</td>\n",
       "      <td>-0.008283</td>\n",
       "      <td>0.230641</td>\n",
       "      <td>0.014785</td>\n",
       "      <td>0.122884</td>\n",
       "    </tr>\n",
       "    <tr>\n",
       "      <th>children</th>\n",
       "      <td>0.005048</td>\n",
       "      <td>-0.037622</td>\n",
       "      <td>0.054624</td>\n",
       "      <td>0.005518</td>\n",
       "      <td>0.014544</td>\n",
       "      <td>0.045793</td>\n",
       "      <td>0.044203</td>\n",
       "      <td>0.030447</td>\n",
       "      <td>1.000000</td>\n",
       "      <td>0.024030</td>\n",
       "      <td>-0.032859</td>\n",
       "      <td>-0.024730</td>\n",
       "      <td>-0.021072</td>\n",
       "      <td>0.048949</td>\n",
       "      <td>0.041066</td>\n",
       "      <td>0.030931</td>\n",
       "      <td>-0.033273</td>\n",
       "      <td>0.324854</td>\n",
       "      <td>0.056253</td>\n",
       "      <td>0.081745</td>\n",
       "    </tr>\n",
       "    <tr>\n",
       "      <th>babies</th>\n",
       "      <td>-0.032491</td>\n",
       "      <td>-0.020915</td>\n",
       "      <td>-0.013192</td>\n",
       "      <td>0.010395</td>\n",
       "      <td>-0.000230</td>\n",
       "      <td>0.018483</td>\n",
       "      <td>0.020191</td>\n",
       "      <td>0.018146</td>\n",
       "      <td>0.024030</td>\n",
       "      <td>1.000000</td>\n",
       "      <td>-0.008943</td>\n",
       "      <td>-0.007501</td>\n",
       "      <td>-0.006550</td>\n",
       "      <td>0.083440</td>\n",
       "      <td>0.036184</td>\n",
       "      <td>0.019206</td>\n",
       "      <td>-0.010621</td>\n",
       "      <td>0.029186</td>\n",
       "      <td>0.037383</td>\n",
       "      <td>0.097889</td>\n",
       "    </tr>\n",
       "    <tr>\n",
       "      <th>is_repeated_guest</th>\n",
       "      <td>-0.084793</td>\n",
       "      <td>-0.124410</td>\n",
       "      <td>0.010341</td>\n",
       "      <td>-0.030131</td>\n",
       "      <td>-0.006145</td>\n",
       "      <td>-0.087239</td>\n",
       "      <td>-0.097245</td>\n",
       "      <td>-0.146426</td>\n",
       "      <td>-0.032859</td>\n",
       "      <td>-0.008943</td>\n",
       "      <td>1.000000</td>\n",
       "      <td>0.082293</td>\n",
       "      <td>0.418056</td>\n",
       "      <td>0.012092</td>\n",
       "      <td>0.031527</td>\n",
       "      <td>-0.244586</td>\n",
       "      <td>-0.022235</td>\n",
       "      <td>-0.134314</td>\n",
       "      <td>0.077090</td>\n",
       "      <td>0.013050</td>\n",
       "    </tr>\n",
       "    <tr>\n",
       "      <th>previous_cancellations</th>\n",
       "      <td>0.110133</td>\n",
       "      <td>0.086042</td>\n",
       "      <td>-0.119822</td>\n",
       "      <td>0.035501</td>\n",
       "      <td>-0.027011</td>\n",
       "      <td>-0.012775</td>\n",
       "      <td>-0.013992</td>\n",
       "      <td>-0.006738</td>\n",
       "      <td>-0.024730</td>\n",
       "      <td>-0.007501</td>\n",
       "      <td>0.082293</td>\n",
       "      <td>1.000000</td>\n",
       "      <td>0.152728</td>\n",
       "      <td>-0.026993</td>\n",
       "      <td>-0.012488</td>\n",
       "      <td>-0.184574</td>\n",
       "      <td>0.005929</td>\n",
       "      <td>-0.065646</td>\n",
       "      <td>-0.018492</td>\n",
       "      <td>-0.048384</td>\n",
       "    </tr>\n",
       "    <tr>\n",
       "      <th>previous_bookings_not_canceled</th>\n",
       "      <td>-0.057358</td>\n",
       "      <td>-0.073548</td>\n",
       "      <td>0.029218</td>\n",
       "      <td>-0.020904</td>\n",
       "      <td>-0.000300</td>\n",
       "      <td>-0.042715</td>\n",
       "      <td>-0.048743</td>\n",
       "      <td>-0.107983</td>\n",
       "      <td>-0.021072</td>\n",
       "      <td>-0.006550</td>\n",
       "      <td>0.418056</td>\n",
       "      <td>0.152728</td>\n",
       "      <td>1.000000</td>\n",
       "      <td>0.011608</td>\n",
       "      <td>0.023252</td>\n",
       "      <td>-0.208557</td>\n",
       "      <td>-0.009397</td>\n",
       "      <td>-0.072144</td>\n",
       "      <td>0.047653</td>\n",
       "      <td>0.037824</td>\n",
       "    </tr>\n",
       "    <tr>\n",
       "      <th>booking_changes</th>\n",
       "      <td>-0.144381</td>\n",
       "      <td>0.000149</td>\n",
       "      <td>0.030872</td>\n",
       "      <td>0.005508</td>\n",
       "      <td>0.010613</td>\n",
       "      <td>0.063281</td>\n",
       "      <td>0.096209</td>\n",
       "      <td>-0.051673</td>\n",
       "      <td>0.048949</td>\n",
       "      <td>0.083440</td>\n",
       "      <td>0.012092</td>\n",
       "      <td>-0.026993</td>\n",
       "      <td>0.011608</td>\n",
       "      <td>1.000000</td>\n",
       "      <td>0.067010</td>\n",
       "      <td>0.122098</td>\n",
       "      <td>-0.011634</td>\n",
       "      <td>0.019618</td>\n",
       "      <td>0.065620</td>\n",
       "      <td>0.052833</td>\n",
       "    </tr>\n",
       "    <tr>\n",
       "      <th>agent</th>\n",
       "      <td>-0.083114</td>\n",
       "      <td>-0.069741</td>\n",
       "      <td>0.063457</td>\n",
       "      <td>-0.031201</td>\n",
       "      <td>0.001487</td>\n",
       "      <td>0.140739</td>\n",
       "      <td>0.182382</td>\n",
       "      <td>-0.035594</td>\n",
       "      <td>0.041066</td>\n",
       "      <td>0.036184</td>\n",
       "      <td>0.031527</td>\n",
       "      <td>-0.012488</td>\n",
       "      <td>0.023252</td>\n",
       "      <td>0.067010</td>\n",
       "      <td>1.000000</td>\n",
       "      <td>0.350746</td>\n",
       "      <td>-0.055151</td>\n",
       "      <td>-0.024695</td>\n",
       "      <td>0.177353</td>\n",
       "      <td>0.034162</td>\n",
       "    </tr>\n",
       "    <tr>\n",
       "      <th>company</th>\n",
       "      <td>-0.020642</td>\n",
       "      <td>0.151464</td>\n",
       "      <td>0.259095</td>\n",
       "      <td>-0.076760</td>\n",
       "      <td>0.044858</td>\n",
       "      <td>0.066749</td>\n",
       "      <td>0.182211</td>\n",
       "      <td>0.207793</td>\n",
       "      <td>0.030931</td>\n",
       "      <td>0.019206</td>\n",
       "      <td>-0.244586</td>\n",
       "      <td>-0.184574</td>\n",
       "      <td>-0.208557</td>\n",
       "      <td>0.122098</td>\n",
       "      <td>0.350746</td>\n",
       "      <td>1.000000</td>\n",
       "      <td>0.000411</td>\n",
       "      <td>0.086376</td>\n",
       "      <td>-0.012916</td>\n",
       "      <td>-0.098558</td>\n",
       "    </tr>\n",
       "    <tr>\n",
       "      <th>days_in_waiting_list</th>\n",
       "      <td>0.054186</td>\n",
       "      <td>0.170084</td>\n",
       "      <td>-0.056497</td>\n",
       "      <td>0.022933</td>\n",
       "      <td>0.022728</td>\n",
       "      <td>-0.054151</td>\n",
       "      <td>-0.002020</td>\n",
       "      <td>-0.008283</td>\n",
       "      <td>-0.033273</td>\n",
       "      <td>-0.010621</td>\n",
       "      <td>-0.022235</td>\n",
       "      <td>0.005929</td>\n",
       "      <td>-0.009397</td>\n",
       "      <td>-0.011634</td>\n",
       "      <td>-0.055151</td>\n",
       "      <td>0.000411</td>\n",
       "      <td>1.000000</td>\n",
       "      <td>-0.040756</td>\n",
       "      <td>-0.030600</td>\n",
       "      <td>-0.082730</td>\n",
       "    </tr>\n",
       "    <tr>\n",
       "      <th>adr</th>\n",
       "      <td>0.047557</td>\n",
       "      <td>-0.063077</td>\n",
       "      <td>0.197580</td>\n",
       "      <td>0.075791</td>\n",
       "      <td>0.030245</td>\n",
       "      <td>0.049342</td>\n",
       "      <td>0.065237</td>\n",
       "      <td>0.230641</td>\n",
       "      <td>0.324854</td>\n",
       "      <td>0.029186</td>\n",
       "      <td>-0.134314</td>\n",
       "      <td>-0.065646</td>\n",
       "      <td>-0.072144</td>\n",
       "      <td>0.019618</td>\n",
       "      <td>-0.024695</td>\n",
       "      <td>0.086376</td>\n",
       "      <td>-0.040756</td>\n",
       "      <td>1.000000</td>\n",
       "      <td>0.056628</td>\n",
       "      <td>0.172185</td>\n",
       "    </tr>\n",
       "    <tr>\n",
       "      <th>required_car_parking_spaces</th>\n",
       "      <td>-0.195498</td>\n",
       "      <td>-0.116451</td>\n",
       "      <td>-0.013684</td>\n",
       "      <td>0.001920</td>\n",
       "      <td>0.008683</td>\n",
       "      <td>-0.018554</td>\n",
       "      <td>-0.024859</td>\n",
       "      <td>0.014785</td>\n",
       "      <td>0.056253</td>\n",
       "      <td>0.037383</td>\n",
       "      <td>0.077090</td>\n",
       "      <td>-0.018492</td>\n",
       "      <td>0.047653</td>\n",
       "      <td>0.065620</td>\n",
       "      <td>0.177353</td>\n",
       "      <td>-0.012916</td>\n",
       "      <td>-0.030600</td>\n",
       "      <td>0.056628</td>\n",
       "      <td>1.000000</td>\n",
       "      <td>0.082626</td>\n",
       "    </tr>\n",
       "    <tr>\n",
       "      <th>total_of_special_requests</th>\n",
       "      <td>-0.234658</td>\n",
       "      <td>-0.095712</td>\n",
       "      <td>0.108531</td>\n",
       "      <td>0.026149</td>\n",
       "      <td>0.003062</td>\n",
       "      <td>0.072671</td>\n",
       "      <td>0.068192</td>\n",
       "      <td>0.122884</td>\n",
       "      <td>0.081745</td>\n",
       "      <td>0.097889</td>\n",
       "      <td>0.013050</td>\n",
       "      <td>-0.048384</td>\n",
       "      <td>0.037824</td>\n",
       "      <td>0.052833</td>\n",
       "      <td>0.034162</td>\n",
       "      <td>-0.098558</td>\n",
       "      <td>-0.082730</td>\n",
       "      <td>0.172185</td>\n",
       "      <td>0.082626</td>\n",
       "      <td>1.000000</td>\n",
       "    </tr>\n",
       "  </tbody>\n",
       "</table>\n",
       "</div>"
      ],
      "text/plain": [
       "                                is_canceled  lead_time  arrival_date_year  \\\n",
       "is_canceled                        1.000000   0.293123           0.016660   \n",
       "lead_time                          0.293123   1.000000           0.040142   \n",
       "arrival_date_year                  0.016660   0.040142           1.000000   \n",
       "arrival_date_week_number           0.008148   0.126871          -0.540561   \n",
       "arrival_date_day_of_month         -0.006130   0.002268          -0.000221   \n",
       "stays_in_weekend_nights           -0.001791   0.085671           0.021497   \n",
       "stays_in_week_nights               0.024765   0.165799           0.030883   \n",
       "adults                             0.060017   0.119519           0.029635   \n",
       "children                           0.005048  -0.037622           0.054624   \n",
       "babies                            -0.032491  -0.020915          -0.013192   \n",
       "is_repeated_guest                 -0.084793  -0.124410           0.010341   \n",
       "previous_cancellations             0.110133   0.086042          -0.119822   \n",
       "previous_bookings_not_canceled    -0.057358  -0.073548           0.029218   \n",
       "booking_changes                   -0.144381   0.000149           0.030872   \n",
       "agent                             -0.083114  -0.069741           0.063457   \n",
       "company                           -0.020642   0.151464           0.259095   \n",
       "days_in_waiting_list               0.054186   0.170084          -0.056497   \n",
       "adr                                0.047557  -0.063077           0.197580   \n",
       "required_car_parking_spaces       -0.195498  -0.116451          -0.013684   \n",
       "total_of_special_requests         -0.234658  -0.095712           0.108531   \n",
       "\n",
       "                                arrival_date_week_number  \\\n",
       "is_canceled                                     0.008148   \n",
       "lead_time                                       0.126871   \n",
       "arrival_date_year                              -0.540561   \n",
       "arrival_date_week_number                        1.000000   \n",
       "arrival_date_day_of_month                       0.066809   \n",
       "stays_in_weekend_nights                         0.018208   \n",
       "stays_in_week_nights                            0.015558   \n",
       "adults                                          0.025909   \n",
       "children                                        0.005518   \n",
       "babies                                          0.010395   \n",
       "is_repeated_guest                              -0.030131   \n",
       "previous_cancellations                          0.035501   \n",
       "previous_bookings_not_canceled                 -0.020904   \n",
       "booking_changes                                 0.005508   \n",
       "agent                                          -0.031201   \n",
       "company                                        -0.076760   \n",
       "days_in_waiting_list                            0.022933   \n",
       "adr                                             0.075791   \n",
       "required_car_parking_spaces                     0.001920   \n",
       "total_of_special_requests                       0.026149   \n",
       "\n",
       "                                arrival_date_day_of_month  \\\n",
       "is_canceled                                     -0.006130   \n",
       "lead_time                                        0.002268   \n",
       "arrival_date_year                               -0.000221   \n",
       "arrival_date_week_number                         0.066809   \n",
       "arrival_date_day_of_month                        1.000000   \n",
       "stays_in_weekend_nights                         -0.016354   \n",
       "stays_in_week_nights                            -0.028174   \n",
       "adults                                          -0.001566   \n",
       "children                                         0.014544   \n",
       "babies                                          -0.000230   \n",
       "is_repeated_guest                               -0.006145   \n",
       "previous_cancellations                          -0.027011   \n",
       "previous_bookings_not_canceled                  -0.000300   \n",
       "booking_changes                                  0.010613   \n",
       "agent                                            0.001487   \n",
       "company                                          0.044858   \n",
       "days_in_waiting_list                             0.022728   \n",
       "adr                                              0.030245   \n",
       "required_car_parking_spaces                      0.008683   \n",
       "total_of_special_requests                        0.003062   \n",
       "\n",
       "                                stays_in_weekend_nights  stays_in_week_nights  \\\n",
       "is_canceled                                   -0.001791              0.024765   \n",
       "lead_time                                      0.085671              0.165799   \n",
       "arrival_date_year                              0.021497              0.030883   \n",
       "arrival_date_week_number                       0.018208              0.015558   \n",
       "arrival_date_day_of_month                     -0.016354             -0.028174   \n",
       "stays_in_weekend_nights                        1.000000              0.498969   \n",
       "stays_in_week_nights                           0.498969              1.000000   \n",
       "adults                                         0.091871              0.092976   \n",
       "children                                       0.045793              0.044203   \n",
       "babies                                         0.018483              0.020191   \n",
       "is_repeated_guest                             -0.087239             -0.097245   \n",
       "previous_cancellations                        -0.012775             -0.013992   \n",
       "previous_bookings_not_canceled                -0.042715             -0.048743   \n",
       "booking_changes                                0.063281              0.096209   \n",
       "agent                                          0.140739              0.182382   \n",
       "company                                        0.066749              0.182211   \n",
       "days_in_waiting_list                          -0.054151             -0.002020   \n",
       "adr                                            0.049342              0.065237   \n",
       "required_car_parking_spaces                   -0.018554             -0.024859   \n",
       "total_of_special_requests                      0.072671              0.068192   \n",
       "\n",
       "                                  adults  children    babies  \\\n",
       "is_canceled                     0.060017  0.005048 -0.032491   \n",
       "lead_time                       0.119519 -0.037622 -0.020915   \n",
       "arrival_date_year               0.029635  0.054624 -0.013192   \n",
       "arrival_date_week_number        0.025909  0.005518  0.010395   \n",
       "arrival_date_day_of_month      -0.001566  0.014544 -0.000230   \n",
       "stays_in_weekend_nights         0.091871  0.045793  0.018483   \n",
       "stays_in_week_nights            0.092976  0.044203  0.020191   \n",
       "adults                          1.000000  0.030447  0.018146   \n",
       "children                        0.030447  1.000000  0.024030   \n",
       "babies                          0.018146  0.024030  1.000000   \n",
       "is_repeated_guest              -0.146426 -0.032859 -0.008943   \n",
       "previous_cancellations         -0.006738 -0.024730 -0.007501   \n",
       "previous_bookings_not_canceled -0.107983 -0.021072 -0.006550   \n",
       "booking_changes                -0.051673  0.048949  0.083440   \n",
       "agent                          -0.035594  0.041066  0.036184   \n",
       "company                         0.207793  0.030931  0.019206   \n",
       "days_in_waiting_list           -0.008283 -0.033273 -0.010621   \n",
       "adr                             0.230641  0.324854  0.029186   \n",
       "required_car_parking_spaces     0.014785  0.056253  0.037383   \n",
       "total_of_special_requests       0.122884  0.081745  0.097889   \n",
       "\n",
       "                                is_repeated_guest  previous_cancellations  \\\n",
       "is_canceled                             -0.084793                0.110133   \n",
       "lead_time                               -0.124410                0.086042   \n",
       "arrival_date_year                        0.010341               -0.119822   \n",
       "arrival_date_week_number                -0.030131                0.035501   \n",
       "arrival_date_day_of_month               -0.006145               -0.027011   \n",
       "stays_in_weekend_nights                 -0.087239               -0.012775   \n",
       "stays_in_week_nights                    -0.097245               -0.013992   \n",
       "adults                                  -0.146426               -0.006738   \n",
       "children                                -0.032859               -0.024730   \n",
       "babies                                  -0.008943               -0.007501   \n",
       "is_repeated_guest                        1.000000                0.082293   \n",
       "previous_cancellations                   0.082293                1.000000   \n",
       "previous_bookings_not_canceled           0.418056                0.152728   \n",
       "booking_changes                          0.012092               -0.026993   \n",
       "agent                                    0.031527               -0.012488   \n",
       "company                                 -0.244586               -0.184574   \n",
       "days_in_waiting_list                    -0.022235                0.005929   \n",
       "adr                                     -0.134314               -0.065646   \n",
       "required_car_parking_spaces              0.077090               -0.018492   \n",
       "total_of_special_requests                0.013050               -0.048384   \n",
       "\n",
       "                                previous_bookings_not_canceled  \\\n",
       "is_canceled                                          -0.057358   \n",
       "lead_time                                            -0.073548   \n",
       "arrival_date_year                                     0.029218   \n",
       "arrival_date_week_number                             -0.020904   \n",
       "arrival_date_day_of_month                            -0.000300   \n",
       "stays_in_weekend_nights                              -0.042715   \n",
       "stays_in_week_nights                                 -0.048743   \n",
       "adults                                               -0.107983   \n",
       "children                                             -0.021072   \n",
       "babies                                               -0.006550   \n",
       "is_repeated_guest                                     0.418056   \n",
       "previous_cancellations                                0.152728   \n",
       "previous_bookings_not_canceled                        1.000000   \n",
       "booking_changes                                       0.011608   \n",
       "agent                                                 0.023252   \n",
       "company                                              -0.208557   \n",
       "days_in_waiting_list                                 -0.009397   \n",
       "adr                                                  -0.072144   \n",
       "required_car_parking_spaces                           0.047653   \n",
       "total_of_special_requests                             0.037824   \n",
       "\n",
       "                                booking_changes     agent   company  \\\n",
       "is_canceled                           -0.144381 -0.083114 -0.020642   \n",
       "lead_time                              0.000149 -0.069741  0.151464   \n",
       "arrival_date_year                      0.030872  0.063457  0.259095   \n",
       "arrival_date_week_number               0.005508 -0.031201 -0.076760   \n",
       "arrival_date_day_of_month              0.010613  0.001487  0.044858   \n",
       "stays_in_weekend_nights                0.063281  0.140739  0.066749   \n",
       "stays_in_week_nights                   0.096209  0.182382  0.182211   \n",
       "adults                                -0.051673 -0.035594  0.207793   \n",
       "children                               0.048949  0.041066  0.030931   \n",
       "babies                                 0.083440  0.036184  0.019206   \n",
       "is_repeated_guest                      0.012092  0.031527 -0.244586   \n",
       "previous_cancellations                -0.026993 -0.012488 -0.184574   \n",
       "previous_bookings_not_canceled         0.011608  0.023252 -0.208557   \n",
       "booking_changes                        1.000000  0.067010  0.122098   \n",
       "agent                                  0.067010  1.000000  0.350746   \n",
       "company                                0.122098  0.350746  1.000000   \n",
       "days_in_waiting_list                  -0.011634 -0.055151  0.000411   \n",
       "adr                                    0.019618 -0.024695  0.086376   \n",
       "required_car_parking_spaces            0.065620  0.177353 -0.012916   \n",
       "total_of_special_requests              0.052833  0.034162 -0.098558   \n",
       "\n",
       "                                days_in_waiting_list       adr  \\\n",
       "is_canceled                                 0.054186  0.047557   \n",
       "lead_time                                   0.170084 -0.063077   \n",
       "arrival_date_year                          -0.056497  0.197580   \n",
       "arrival_date_week_number                    0.022933  0.075791   \n",
       "arrival_date_day_of_month                   0.022728  0.030245   \n",
       "stays_in_weekend_nights                    -0.054151  0.049342   \n",
       "stays_in_week_nights                       -0.002020  0.065237   \n",
       "adults                                     -0.008283  0.230641   \n",
       "children                                   -0.033273  0.324854   \n",
       "babies                                     -0.010621  0.029186   \n",
       "is_repeated_guest                          -0.022235 -0.134314   \n",
       "previous_cancellations                      0.005929 -0.065646   \n",
       "previous_bookings_not_canceled             -0.009397 -0.072144   \n",
       "booking_changes                            -0.011634  0.019618   \n",
       "agent                                      -0.055151 -0.024695   \n",
       "company                                     0.000411  0.086376   \n",
       "days_in_waiting_list                        1.000000 -0.040756   \n",
       "adr                                        -0.040756  1.000000   \n",
       "required_car_parking_spaces                -0.030600  0.056628   \n",
       "total_of_special_requests                  -0.082730  0.172185   \n",
       "\n",
       "                                required_car_parking_spaces  \\\n",
       "is_canceled                                       -0.195498   \n",
       "lead_time                                         -0.116451   \n",
       "arrival_date_year                                 -0.013684   \n",
       "arrival_date_week_number                           0.001920   \n",
       "arrival_date_day_of_month                          0.008683   \n",
       "stays_in_weekend_nights                           -0.018554   \n",
       "stays_in_week_nights                              -0.024859   \n",
       "adults                                             0.014785   \n",
       "children                                           0.056253   \n",
       "babies                                             0.037383   \n",
       "is_repeated_guest                                  0.077090   \n",
       "previous_cancellations                            -0.018492   \n",
       "previous_bookings_not_canceled                     0.047653   \n",
       "booking_changes                                    0.065620   \n",
       "agent                                              0.177353   \n",
       "company                                           -0.012916   \n",
       "days_in_waiting_list                              -0.030600   \n",
       "adr                                                0.056628   \n",
       "required_car_parking_spaces                        1.000000   \n",
       "total_of_special_requests                          0.082626   \n",
       "\n",
       "                                total_of_special_requests  \n",
       "is_canceled                                     -0.234658  \n",
       "lead_time                                       -0.095712  \n",
       "arrival_date_year                                0.108531  \n",
       "arrival_date_week_number                         0.026149  \n",
       "arrival_date_day_of_month                        0.003062  \n",
       "stays_in_weekend_nights                          0.072671  \n",
       "stays_in_week_nights                             0.068192  \n",
       "adults                                           0.122884  \n",
       "children                                         0.081745  \n",
       "babies                                           0.097889  \n",
       "is_repeated_guest                                0.013050  \n",
       "previous_cancellations                          -0.048384  \n",
       "previous_bookings_not_canceled                   0.037824  \n",
       "booking_changes                                  0.052833  \n",
       "agent                                            0.034162  \n",
       "company                                         -0.098558  \n",
       "days_in_waiting_list                            -0.082730  \n",
       "adr                                              0.172185  \n",
       "required_car_parking_spaces                      0.082626  \n",
       "total_of_special_requests                        1.000000  "
      ]
     },
     "execution_count": 19,
     "metadata": {},
     "output_type": "execute_result"
    }
   ],
   "source": [
    "raw.corr()"
   ]
  },
  {
   "cell_type": "code",
   "execution_count": 20,
   "metadata": {},
   "outputs": [],
   "source": [
    "## No high values for the correlation between variables"
   ]
  },
  {
   "cell_type": "code",
   "execution_count": 21,
   "metadata": {},
   "outputs": [],
   "source": [
    "raw = pd.read_csv('hotel_bookings.csv')\n",
    "raw=raw.drop(['agent','company','reservation_status_date', 'reservation_status'],axis=1)\n",
    "raw['country']=raw['country'].replace(np.nan,'PRT')\n",
    "raw['children']=raw['children'].replace(np.nan,'0')\n",
    "raw['children']=raw['children'].astype('int')"
   ]
  },
  {
   "cell_type": "code",
   "execution_count": 22,
   "metadata": {},
   "outputs": [],
   "source": [
    "##convert categorical to numerical variables\n",
    "raw=pd.get_dummies(raw,prefix=['hotel', 'arrival_date_month', 'meal', 'country', 'market_segment',\n",
    "       'distribution_channel', 'reserved_room_type', 'assigned_room_type',\n",
    "       'deposit_type', 'customer_type'])"
   ]
  },
  {
   "cell_type": "markdown",
   "metadata": {},
   "source": [
    "<a name=\"predmodel\"></a>\n",
    "### 5. Predictive Modeling and Evaluation (the whole process)"
   ]
  },
  {
   "cell_type": "code",
   "execution_count": 23,
   "metadata": {},
   "outputs": [
    {
     "data": {
      "text/html": [
       "<div>\n",
       "<style scoped>\n",
       "    .dataframe tbody tr th:only-of-type {\n",
       "        vertical-align: middle;\n",
       "    }\n",
       "\n",
       "    .dataframe tbody tr th {\n",
       "        vertical-align: top;\n",
       "    }\n",
       "\n",
       "    .dataframe thead th {\n",
       "        text-align: right;\n",
       "    }\n",
       "</style>\n",
       "<table border=\"1\" class=\"dataframe\">\n",
       "  <thead>\n",
       "    <tr style=\"text-align: right;\">\n",
       "      <th></th>\n",
       "      <th>is_canceled</th>\n",
       "      <th>lead_time</th>\n",
       "      <th>arrival_date_year</th>\n",
       "      <th>arrival_date_week_number</th>\n",
       "      <th>arrival_date_day_of_month</th>\n",
       "      <th>stays_in_weekend_nights</th>\n",
       "      <th>stays_in_week_nights</th>\n",
       "      <th>adults</th>\n",
       "      <th>children</th>\n",
       "      <th>babies</th>\n",
       "      <th>...</th>\n",
       "      <th>assigned_room_type_K</th>\n",
       "      <th>assigned_room_type_L</th>\n",
       "      <th>assigned_room_type_P</th>\n",
       "      <th>deposit_type_No Deposit</th>\n",
       "      <th>deposit_type_Non Refund</th>\n",
       "      <th>deposit_type_Refundable</th>\n",
       "      <th>customer_type_Contract</th>\n",
       "      <th>customer_type_Group</th>\n",
       "      <th>customer_type_Transient</th>\n",
       "      <th>customer_type_Transient-Party</th>\n",
       "    </tr>\n",
       "  </thead>\n",
       "  <tbody>\n",
       "    <tr>\n",
       "      <th>0</th>\n",
       "      <td>0</td>\n",
       "      <td>342</td>\n",
       "      <td>2015</td>\n",
       "      <td>27</td>\n",
       "      <td>1</td>\n",
       "      <td>0</td>\n",
       "      <td>0</td>\n",
       "      <td>2</td>\n",
       "      <td>0</td>\n",
       "      <td>0</td>\n",
       "      <td>...</td>\n",
       "      <td>0</td>\n",
       "      <td>0</td>\n",
       "      <td>0</td>\n",
       "      <td>1</td>\n",
       "      <td>0</td>\n",
       "      <td>0</td>\n",
       "      <td>0</td>\n",
       "      <td>0</td>\n",
       "      <td>1</td>\n",
       "      <td>0</td>\n",
       "    </tr>\n",
       "    <tr>\n",
       "      <th>1</th>\n",
       "      <td>0</td>\n",
       "      <td>737</td>\n",
       "      <td>2015</td>\n",
       "      <td>27</td>\n",
       "      <td>1</td>\n",
       "      <td>0</td>\n",
       "      <td>0</td>\n",
       "      <td>2</td>\n",
       "      <td>0</td>\n",
       "      <td>0</td>\n",
       "      <td>...</td>\n",
       "      <td>0</td>\n",
       "      <td>0</td>\n",
       "      <td>0</td>\n",
       "      <td>1</td>\n",
       "      <td>0</td>\n",
       "      <td>0</td>\n",
       "      <td>0</td>\n",
       "      <td>0</td>\n",
       "      <td>1</td>\n",
       "      <td>0</td>\n",
       "    </tr>\n",
       "    <tr>\n",
       "      <th>2</th>\n",
       "      <td>0</td>\n",
       "      <td>7</td>\n",
       "      <td>2015</td>\n",
       "      <td>27</td>\n",
       "      <td>1</td>\n",
       "      <td>0</td>\n",
       "      <td>1</td>\n",
       "      <td>1</td>\n",
       "      <td>0</td>\n",
       "      <td>0</td>\n",
       "      <td>...</td>\n",
       "      <td>0</td>\n",
       "      <td>0</td>\n",
       "      <td>0</td>\n",
       "      <td>1</td>\n",
       "      <td>0</td>\n",
       "      <td>0</td>\n",
       "      <td>0</td>\n",
       "      <td>0</td>\n",
       "      <td>1</td>\n",
       "      <td>0</td>\n",
       "    </tr>\n",
       "    <tr>\n",
       "      <th>3</th>\n",
       "      <td>0</td>\n",
       "      <td>13</td>\n",
       "      <td>2015</td>\n",
       "      <td>27</td>\n",
       "      <td>1</td>\n",
       "      <td>0</td>\n",
       "      <td>1</td>\n",
       "      <td>1</td>\n",
       "      <td>0</td>\n",
       "      <td>0</td>\n",
       "      <td>...</td>\n",
       "      <td>0</td>\n",
       "      <td>0</td>\n",
       "      <td>0</td>\n",
       "      <td>1</td>\n",
       "      <td>0</td>\n",
       "      <td>0</td>\n",
       "      <td>0</td>\n",
       "      <td>0</td>\n",
       "      <td>1</td>\n",
       "      <td>0</td>\n",
       "    </tr>\n",
       "    <tr>\n",
       "      <th>4</th>\n",
       "      <td>0</td>\n",
       "      <td>14</td>\n",
       "      <td>2015</td>\n",
       "      <td>27</td>\n",
       "      <td>1</td>\n",
       "      <td>0</td>\n",
       "      <td>2</td>\n",
       "      <td>2</td>\n",
       "      <td>0</td>\n",
       "      <td>0</td>\n",
       "      <td>...</td>\n",
       "      <td>0</td>\n",
       "      <td>0</td>\n",
       "      <td>0</td>\n",
       "      <td>1</td>\n",
       "      <td>0</td>\n",
       "      <td>0</td>\n",
       "      <td>0</td>\n",
       "      <td>0</td>\n",
       "      <td>1</td>\n",
       "      <td>0</td>\n",
       "    </tr>\n",
       "  </tbody>\n",
       "</table>\n",
       "<p>5 rows × 256 columns</p>\n",
       "</div>"
      ],
      "text/plain": [
       "   is_canceled  lead_time  arrival_date_year  arrival_date_week_number  \\\n",
       "0            0        342               2015                        27   \n",
       "1            0        737               2015                        27   \n",
       "2            0          7               2015                        27   \n",
       "3            0         13               2015                        27   \n",
       "4            0         14               2015                        27   \n",
       "\n",
       "   arrival_date_day_of_month  stays_in_weekend_nights  stays_in_week_nights  \\\n",
       "0                          1                        0                     0   \n",
       "1                          1                        0                     0   \n",
       "2                          1                        0                     1   \n",
       "3                          1                        0                     1   \n",
       "4                          1                        0                     2   \n",
       "\n",
       "   adults  children  babies  ...  assigned_room_type_K  assigned_room_type_L  \\\n",
       "0       2         0       0  ...                     0                     0   \n",
       "1       2         0       0  ...                     0                     0   \n",
       "2       1         0       0  ...                     0                     0   \n",
       "3       1         0       0  ...                     0                     0   \n",
       "4       2         0       0  ...                     0                     0   \n",
       "\n",
       "   assigned_room_type_P  deposit_type_No Deposit  deposit_type_Non Refund  \\\n",
       "0                     0                        1                        0   \n",
       "1                     0                        1                        0   \n",
       "2                     0                        1                        0   \n",
       "3                     0                        1                        0   \n",
       "4                     0                        1                        0   \n",
       "\n",
       "   deposit_type_Refundable  customer_type_Contract  customer_type_Group  \\\n",
       "0                        0                       0                    0   \n",
       "1                        0                       0                    0   \n",
       "2                        0                       0                    0   \n",
       "3                        0                       0                    0   \n",
       "4                        0                       0                    0   \n",
       "\n",
       "   customer_type_Transient  customer_type_Transient-Party  \n",
       "0                        1                              0  \n",
       "1                        1                              0  \n",
       "2                        1                              0  \n",
       "3                        1                              0  \n",
       "4                        1                              0  \n",
       "\n",
       "[5 rows x 256 columns]"
      ]
     },
     "execution_count": 23,
     "metadata": {},
     "output_type": "execute_result"
    }
   ],
   "source": [
    "raw.head()"
   ]
  },
  {
   "cell_type": "code",
   "execution_count": 24,
   "metadata": {},
   "outputs": [
    {
     "data": {
      "text/html": [
       "<div>\n",
       "<style scoped>\n",
       "    .dataframe tbody tr th:only-of-type {\n",
       "        vertical-align: middle;\n",
       "    }\n",
       "\n",
       "    .dataframe tbody tr th {\n",
       "        vertical-align: top;\n",
       "    }\n",
       "\n",
       "    .dataframe thead th {\n",
       "        text-align: right;\n",
       "    }\n",
       "</style>\n",
       "<table border=\"1\" class=\"dataframe\">\n",
       "  <thead>\n",
       "    <tr style=\"text-align: right;\">\n",
       "      <th></th>\n",
       "      <th>lead_time</th>\n",
       "      <th>arrival_date_year</th>\n",
       "      <th>arrival_date_week_number</th>\n",
       "      <th>arrival_date_day_of_month</th>\n",
       "      <th>stays_in_weekend_nights</th>\n",
       "      <th>stays_in_week_nights</th>\n",
       "      <th>adults</th>\n",
       "      <th>children</th>\n",
       "      <th>babies</th>\n",
       "      <th>is_repeated_guest</th>\n",
       "      <th>...</th>\n",
       "      <th>assigned_room_type_K</th>\n",
       "      <th>assigned_room_type_L</th>\n",
       "      <th>assigned_room_type_P</th>\n",
       "      <th>deposit_type_No Deposit</th>\n",
       "      <th>deposit_type_Non Refund</th>\n",
       "      <th>deposit_type_Refundable</th>\n",
       "      <th>customer_type_Contract</th>\n",
       "      <th>customer_type_Group</th>\n",
       "      <th>customer_type_Transient</th>\n",
       "      <th>customer_type_Transient-Party</th>\n",
       "    </tr>\n",
       "  </thead>\n",
       "  <tbody>\n",
       "    <tr>\n",
       "      <th>0</th>\n",
       "      <td>342</td>\n",
       "      <td>2015</td>\n",
       "      <td>27</td>\n",
       "      <td>1</td>\n",
       "      <td>0</td>\n",
       "      <td>0</td>\n",
       "      <td>2</td>\n",
       "      <td>0</td>\n",
       "      <td>0</td>\n",
       "      <td>0</td>\n",
       "      <td>...</td>\n",
       "      <td>0</td>\n",
       "      <td>0</td>\n",
       "      <td>0</td>\n",
       "      <td>1</td>\n",
       "      <td>0</td>\n",
       "      <td>0</td>\n",
       "      <td>0</td>\n",
       "      <td>0</td>\n",
       "      <td>1</td>\n",
       "      <td>0</td>\n",
       "    </tr>\n",
       "    <tr>\n",
       "      <th>1</th>\n",
       "      <td>737</td>\n",
       "      <td>2015</td>\n",
       "      <td>27</td>\n",
       "      <td>1</td>\n",
       "      <td>0</td>\n",
       "      <td>0</td>\n",
       "      <td>2</td>\n",
       "      <td>0</td>\n",
       "      <td>0</td>\n",
       "      <td>0</td>\n",
       "      <td>...</td>\n",
       "      <td>0</td>\n",
       "      <td>0</td>\n",
       "      <td>0</td>\n",
       "      <td>1</td>\n",
       "      <td>0</td>\n",
       "      <td>0</td>\n",
       "      <td>0</td>\n",
       "      <td>0</td>\n",
       "      <td>1</td>\n",
       "      <td>0</td>\n",
       "    </tr>\n",
       "    <tr>\n",
       "      <th>2</th>\n",
       "      <td>7</td>\n",
       "      <td>2015</td>\n",
       "      <td>27</td>\n",
       "      <td>1</td>\n",
       "      <td>0</td>\n",
       "      <td>1</td>\n",
       "      <td>1</td>\n",
       "      <td>0</td>\n",
       "      <td>0</td>\n",
       "      <td>0</td>\n",
       "      <td>...</td>\n",
       "      <td>0</td>\n",
       "      <td>0</td>\n",
       "      <td>0</td>\n",
       "      <td>1</td>\n",
       "      <td>0</td>\n",
       "      <td>0</td>\n",
       "      <td>0</td>\n",
       "      <td>0</td>\n",
       "      <td>1</td>\n",
       "      <td>0</td>\n",
       "    </tr>\n",
       "    <tr>\n",
       "      <th>3</th>\n",
       "      <td>13</td>\n",
       "      <td>2015</td>\n",
       "      <td>27</td>\n",
       "      <td>1</td>\n",
       "      <td>0</td>\n",
       "      <td>1</td>\n",
       "      <td>1</td>\n",
       "      <td>0</td>\n",
       "      <td>0</td>\n",
       "      <td>0</td>\n",
       "      <td>...</td>\n",
       "      <td>0</td>\n",
       "      <td>0</td>\n",
       "      <td>0</td>\n",
       "      <td>1</td>\n",
       "      <td>0</td>\n",
       "      <td>0</td>\n",
       "      <td>0</td>\n",
       "      <td>0</td>\n",
       "      <td>1</td>\n",
       "      <td>0</td>\n",
       "    </tr>\n",
       "    <tr>\n",
       "      <th>4</th>\n",
       "      <td>14</td>\n",
       "      <td>2015</td>\n",
       "      <td>27</td>\n",
       "      <td>1</td>\n",
       "      <td>0</td>\n",
       "      <td>2</td>\n",
       "      <td>2</td>\n",
       "      <td>0</td>\n",
       "      <td>0</td>\n",
       "      <td>0</td>\n",
       "      <td>...</td>\n",
       "      <td>0</td>\n",
       "      <td>0</td>\n",
       "      <td>0</td>\n",
       "      <td>1</td>\n",
       "      <td>0</td>\n",
       "      <td>0</td>\n",
       "      <td>0</td>\n",
       "      <td>0</td>\n",
       "      <td>1</td>\n",
       "      <td>0</td>\n",
       "    </tr>\n",
       "  </tbody>\n",
       "</table>\n",
       "<p>5 rows × 255 columns</p>\n",
       "</div>"
      ],
      "text/plain": [
       "   lead_time  arrival_date_year  arrival_date_week_number  \\\n",
       "0        342               2015                        27   \n",
       "1        737               2015                        27   \n",
       "2          7               2015                        27   \n",
       "3         13               2015                        27   \n",
       "4         14               2015                        27   \n",
       "\n",
       "   arrival_date_day_of_month  stays_in_weekend_nights  stays_in_week_nights  \\\n",
       "0                          1                        0                     0   \n",
       "1                          1                        0                     0   \n",
       "2                          1                        0                     1   \n",
       "3                          1                        0                     1   \n",
       "4                          1                        0                     2   \n",
       "\n",
       "   adults  children  babies  is_repeated_guest  ...  assigned_room_type_K  \\\n",
       "0       2         0       0                  0  ...                     0   \n",
       "1       2         0       0                  0  ...                     0   \n",
       "2       1         0       0                  0  ...                     0   \n",
       "3       1         0       0                  0  ...                     0   \n",
       "4       2         0       0                  0  ...                     0   \n",
       "\n",
       "   assigned_room_type_L  assigned_room_type_P  deposit_type_No Deposit  \\\n",
       "0                     0                     0                        1   \n",
       "1                     0                     0                        1   \n",
       "2                     0                     0                        1   \n",
       "3                     0                     0                        1   \n",
       "4                     0                     0                        1   \n",
       "\n",
       "   deposit_type_Non Refund  deposit_type_Refundable  customer_type_Contract  \\\n",
       "0                        0                        0                       0   \n",
       "1                        0                        0                       0   \n",
       "2                        0                        0                       0   \n",
       "3                        0                        0                       0   \n",
       "4                        0                        0                       0   \n",
       "\n",
       "   customer_type_Group  customer_type_Transient  customer_type_Transient-Party  \n",
       "0                    0                        1                              0  \n",
       "1                    0                        1                              0  \n",
       "2                    0                        1                              0  \n",
       "3                    0                        1                              0  \n",
       "4                    0                        1                              0  \n",
       "\n",
       "[5 rows x 255 columns]"
      ]
     },
     "execution_count": 24,
     "metadata": {},
     "output_type": "execute_result"
    }
   ],
   "source": [
    "#1. Select the features\n",
    "X=raw.drop('is_canceled',axis=1 )\n",
    "X.head()"
   ]
  },
  {
   "cell_type": "code",
   "execution_count": 25,
   "metadata": {},
   "outputs": [
    {
     "data": {
      "text/plain": [
       "0    0\n",
       "1    0\n",
       "2    0\n",
       "3    0\n",
       "4    0\n",
       "Name: is_canceled, dtype: int64"
      ]
     },
     "execution_count": 25,
     "metadata": {},
     "output_type": "execute_result"
    }
   ],
   "source": [
    "#1. Select the Dependent Variable\n",
    "#dependent variable\n",
    "y = raw['is_canceled']\n",
    "y.head()"
   ]
  },
  {
   "cell_type": "code",
   "execution_count": 26,
   "metadata": {},
   "outputs": [],
   "source": [
    "#Data Split \n",
    "X_train, X_test, y_train, y_test = train_test_split(X, y, test_size = .3, random_state=2)"
   ]
  },
  {
   "cell_type": "markdown",
   "metadata": {},
   "source": [
    "<a name=\"modelsel\"></a>\n",
    "### 6. Model Selection"
   ]
  },
  {
   "cell_type": "markdown",
   "metadata": {},
   "source": [
    "<a name=\"model1\"></a>\n",
    "### 6.1 Model 1 - RFC"
   ]
  },
  {
   "cell_type": "markdown",
   "metadata": {},
   "source": [
    "#### MODEL - RFC"
   ]
  },
  {
   "cell_type": "code",
   "execution_count": 27,
   "metadata": {},
   "outputs": [
    {
     "data": {
      "text/plain": [
       "LogisticRegression(C=1.0, class_weight=None, dual=False, fit_intercept=True,\n",
       "          intercept_scaling=1, max_iter=100, multi_class='auto',\n",
       "          n_jobs=None, penalty='l2', random_state=None, solver='liblinear',\n",
       "          tol=0.0001, verbose=0, warm_start=False)"
      ]
     },
     "execution_count": 27,
     "metadata": {},
     "output_type": "execute_result"
    }
   ],
   "source": [
    "from sklearn.linear_model import LogisticRegression\n",
    "from warnings import simplefilter\n",
    "# ignore all future warnings\n",
    "simplefilter(action='ignore', category=FutureWarning) #No warnings\n",
    "\n",
    "LR=LogisticRegression()\n",
    "LR.fit(X_train,y_train)\n",
    "\n",
    "LogisticRegression(C=1.0, class_weight=None, dual=False, fit_intercept=True,\n",
    "                   intercept_scaling=1, max_iter=100,\n",
    "                   multi_class='auto', n_jobs=None, penalty='l2',\n",
    "                   random_state=None, solver='liblinear', tol=0.0001, verbose=0,\n",
    "                   warm_start=False)\n"
   ]
  },
  {
   "cell_type": "markdown",
   "metadata": {},
   "source": [
    "#### PREDICTION "
   ]
  },
  {
   "cell_type": "code",
   "execution_count": 28,
   "metadata": {},
   "outputs": [
    {
     "data": {
      "text/plain": [
       "array([1, 0, 1, ..., 0, 1, 0], dtype=int64)"
      ]
     },
     "execution_count": 28,
     "metadata": {},
     "output_type": "execute_result"
    }
   ],
   "source": [
    "y_pred = LR.predict(X_test)\n",
    "y_pred"
   ]
  },
  {
   "cell_type": "code",
   "execution_count": 29,
   "metadata": {},
   "outputs": [
    {
     "data": {
      "text/plain": [
       "array([[20696,  2008],\n",
       "       [ 4451,  8662]], dtype=int64)"
      ]
     },
     "execution_count": 29,
     "metadata": {},
     "output_type": "execute_result"
    }
   ],
   "source": [
    "confusion_matrix = confusion_matrix(y_test, y_pred)\n",
    "confusion_matrix"
   ]
  },
  {
   "cell_type": "markdown",
   "metadata": {},
   "source": [
    "#### EVALUATION"
   ]
  },
  {
   "cell_type": "code",
   "execution_count": 30,
   "metadata": {},
   "outputs": [
    {
     "data": {
      "text/plain": [
       "0.8196666387469638"
      ]
     },
     "execution_count": 30,
     "metadata": {},
     "output_type": "execute_result"
    }
   ],
   "source": [
    "accuracy=accuracy_score(y_test, y_pred)\n",
    "accuracy \n",
    "#0.819"
   ]
  },
  {
   "cell_type": "code",
   "execution_count": 31,
   "metadata": {},
   "outputs": [
    {
     "name": "stdout",
     "output_type": "stream",
     "text": [
      "              precision    recall  f1-score   support\n",
      "\n",
      "           0       0.82      0.91      0.87     22704\n",
      "           1       0.81      0.66      0.73     13113\n",
      "\n",
      "   micro avg       0.82      0.82      0.82     35817\n",
      "   macro avg       0.82      0.79      0.80     35817\n",
      "weighted avg       0.82      0.82      0.82     35817\n",
      "\n"
     ]
    }
   ],
   "source": [
    "##Model Evaluation \n",
    "#Let's see how our model perform\n",
    "print(classification_report(y_test, y_pred))"
   ]
  },
  {
   "cell_type": "markdown",
   "metadata": {},
   "source": [
    "<a name=\"model2\"></a>\n",
    "### 6.2 Model 2 - SVM"
   ]
  },
  {
   "cell_type": "markdown",
   "metadata": {},
   "source": [
    "#### MODEL - SVM"
   ]
  },
  {
   "cell_type": "code",
   "execution_count": 32,
   "metadata": {
    "scrolled": true
   },
   "outputs": [],
   "source": [
    "#Model SVM \n",
    "clf = svm.SVC(gamma='auto')\n",
    "#Model Fitting\n",
    "clf.fit(X_train, y_train)\n",
    "pred_clf = clf.predict(X_test)\n"
   ]
  },
  {
   "cell_type": "code",
   "execution_count": 35,
   "metadata": {},
   "outputs": [
    {
     "name": "stdout",
     "output_type": "stream",
     "text": [
      "Model1 - SVM score: \n"
     ]
    },
    {
     "data": {
      "text/plain": [
       "0.8153111650892034"
      ]
     },
     "execution_count": 35,
     "metadata": {},
     "output_type": "execute_result"
    }
   ],
   "source": [
    "print('Model1 - SVM score: ') \n",
    "clf.score(X_train,y_train)\n",
    "##The model score is 0.815"
   ]
  },
  {
   "cell_type": "markdown",
   "metadata": {},
   "source": [
    "#### PREDICTION "
   ]
  },
  {
   "cell_type": "code",
   "execution_count": 36,
   "metadata": {},
   "outputs": [
    {
     "data": {
      "text/plain": [
       "array([0, 0, 0, ..., 1, 1, 0], dtype=int64)"
      ]
     },
     "execution_count": 36,
     "metadata": {},
     "output_type": "execute_result"
    }
   ],
   "source": [
    "Z_pred = clf.predict(X_test)\n",
    "Z_pred"
   ]
  },
  {
   "cell_type": "markdown",
   "metadata": {},
   "source": [
    "#### EVALUATION"
   ]
  },
  {
   "cell_type": "code",
   "execution_count": 39,
   "metadata": {},
   "outputs": [
    {
     "data": {
      "text/plain": [
       "0.7911885417539157"
      ]
     },
     "execution_count": 39,
     "metadata": {},
     "output_type": "execute_result"
    }
   ],
   "source": [
    "accuracy=accuracy_score(y_test, Z_pred)\n",
    "accuracy \n",
    "#0.79"
   ]
  },
  {
   "cell_type": "code",
   "execution_count": 40,
   "metadata": {},
   "outputs": [
    {
     "name": "stdout",
     "output_type": "stream",
     "text": [
      "              precision    recall  f1-score   support\n",
      "\n",
      "           0       0.77      0.95      0.85     22704\n",
      "           1       0.86      0.52      0.64     13113\n",
      "\n",
      "   micro avg       0.79      0.79      0.79     35817\n",
      "   macro avg       0.81      0.73      0.75     35817\n",
      "weighted avg       0.80      0.79      0.78     35817\n",
      "\n"
     ]
    }
   ],
   "source": [
    "##Model Evaluation \n",
    "#Let's see how our model perform\n",
    "print(classification_report(y_test, Z_pred))"
   ]
  },
  {
   "cell_type": "code",
   "execution_count": 42,
   "metadata": {},
   "outputs": [
    {
     "name": "stdout",
     "output_type": "stream",
     "text": [
      "              precision    recall  f1-score   support\n",
      "\n",
      "           0       0.77      0.95      0.85     22704\n",
      "           1       0.86      0.52      0.64     13113\n",
      "\n",
      "   micro avg       0.79      0.79      0.79     35817\n",
      "   macro avg       0.81      0.73      0.75     35817\n",
      "weighted avg       0.80      0.79      0.78     35817\n",
      "\n"
     ]
    }
   ],
   "source": [
    "##Model Evaluation \n",
    "#Let's see how our model perform\n",
    "print(classification_report(y_test, Z_pred))\n",
    "#print(confusion_matrix(y_test, Z_pred))\n",
    "\n"
   ]
  },
  {
   "cell_type": "markdown",
   "metadata": {},
   "source": [
    "<a name=\"model3\"></a>\n",
    "### 6.3 Model 3 - Neural Network "
   ]
  },
  {
   "cell_type": "markdown",
   "metadata": {},
   "source": [
    "#### MODEL - NEURAL NETWORK"
   ]
  },
  {
   "cell_type": "code",
   "execution_count": 44,
   "metadata": {},
   "outputs": [],
   "source": [
    "#Model Neural Network\n",
    "mlpc = MLPClassifier(hidden_layer_sizes=(11,11,11), max_iter=500)\n",
    "#Model Fitting\n",
    "mlpc.fit(X_train, y_train)\n",
    "pred_mlpc = mlpc.predict(X_test)"
   ]
  },
  {
   "cell_type": "code",
   "execution_count": 45,
   "metadata": {},
   "outputs": [
    {
     "name": "stdout",
     "output_type": "stream",
     "text": [
      "Model3 - Neural Network score: \n"
     ]
    },
    {
     "data": {
      "text/plain": [
       "0.8436576406255609"
      ]
     },
     "execution_count": 45,
     "metadata": {},
     "output_type": "execute_result"
    }
   ],
   "source": [
    "print('Model3 - Neural Network score: ') \n",
    "mlpc.score(X_train,y_train)\n",
    "##The model score is 0.84"
   ]
  },
  {
   "cell_type": "markdown",
   "metadata": {},
   "source": [
    "#### PREDICTION "
   ]
  },
  {
   "cell_type": "code",
   "execution_count": 46,
   "metadata": {},
   "outputs": [
    {
     "data": {
      "text/plain": [
       "array([1, 0, 1, ..., 0, 1, 0], dtype=int64)"
      ]
     },
     "execution_count": 46,
     "metadata": {},
     "output_type": "execute_result"
    }
   ],
   "source": [
    "N_pred = mlpc.predict(X_test)\n",
    "N_pred"
   ]
  },
  {
   "cell_type": "code",
   "execution_count": 50,
   "metadata": {},
   "outputs": [],
   "source": [
    "#confusion_matrix1 = confusion_matrix1(y_test, N_pred)\n",
    "#confusion_matrix1"
   ]
  },
  {
   "cell_type": "markdown",
   "metadata": {},
   "source": [
    "#### EVALUATION"
   ]
  },
  {
   "cell_type": "code",
   "execution_count": 51,
   "metadata": {},
   "outputs": [
    {
     "data": {
      "text/plain": [
       "0.8435379847558422"
      ]
     },
     "execution_count": 51,
     "metadata": {},
     "output_type": "execute_result"
    }
   ],
   "source": [
    "accuracy=accuracy_score(y_test, N_pred)\n",
    "accuracy \n"
   ]
  },
  {
   "cell_type": "code",
   "execution_count": 52,
   "metadata": {},
   "outputs": [
    {
     "name": "stdout",
     "output_type": "stream",
     "text": [
      "Training score: \n",
      "[0.83175993 0.82639911 0.81789137]\n"
     ]
    }
   ],
   "source": [
    "print('Training score: ')\n",
    "print(cross_val_score(mlpc, X_train, y_train, cv=3)) \n",
    "#0.839"
   ]
  },
  {
   "cell_type": "code",
   "execution_count": 53,
   "metadata": {},
   "outputs": [
    {
     "name": "stdout",
     "output_type": "stream",
     "text": [
      "              precision    recall  f1-score   support\n",
      "\n",
      "           0       0.88      0.87      0.88     22704\n",
      "           1       0.78      0.80      0.79     13113\n",
      "\n",
      "   micro avg       0.84      0.84      0.84     35817\n",
      "   macro avg       0.83      0.83      0.83     35817\n",
      "weighted avg       0.84      0.84      0.84     35817\n",
      "\n"
     ]
    }
   ],
   "source": [
    "#Let's see how our model perform\n",
    "print(classification_report(y_test, N_pred))\n"
   ]
  },
  {
   "cell_type": "code",
   "execution_count": 55,
   "metadata": {},
   "outputs": [
    {
     "name": "stdout",
     "output_type": "stream",
     "text": [
      "              precision    recall  f1-score   support\n",
      "\n",
      "           0       0.88      0.87      0.88     22704\n",
      "           1       0.78      0.80      0.79     13113\n",
      "\n",
      "   micro avg       0.84      0.84      0.84     35817\n",
      "   macro avg       0.83      0.83      0.83     35817\n",
      "weighted avg       0.84      0.84      0.84     35817\n",
      "\n"
     ]
    }
   ],
   "source": [
    "##Model Evaluation \n",
    "#Let's see how our model perform\n",
    "print(classification_report(y_test, N_pred))\n",
    "#print(confusion_matrix(y_test, N_pred))"
   ]
  },
  {
   "cell_type": "markdown",
   "metadata": {},
   "source": [
    "<a name=\"model4\"></a>\n",
    "### 6.4 Model 4 - Gradient Boosting"
   ]
  },
  {
   "cell_type": "markdown",
   "metadata": {},
   "source": [
    "#### MODEL - Gradient Boosting"
   ]
  },
  {
   "cell_type": "code",
   "execution_count": 59,
   "metadata": {},
   "outputs": [],
   "source": [
    "#Model GB\n",
    "clf_gb = GradientBoostingClassifier(n_estimators=100, learning_rate=1.0, max_depth=1, random_state=0)\n",
    "#Model Fitting\n",
    "clf_gb.fit(X_train, y_train)\n",
    "pred_gb = clf_gb.predict(X_test)"
   ]
  },
  {
   "cell_type": "code",
   "execution_count": 60,
   "metadata": {},
   "outputs": [
    {
     "name": "stdout",
     "output_type": "stream",
     "text": [
      "Model4 - Gradient Boosting score: \n"
     ]
    },
    {
     "data": {
      "text/plain": [
       "0.833965515178347"
      ]
     },
     "execution_count": 60,
     "metadata": {},
     "output_type": "execute_result"
    }
   ],
   "source": [
    "print('Model4 - Gradient Boosting score: ') \n",
    "clf_gb.score(X_train,y_train)\n",
    "##The model score is 0.83"
   ]
  },
  {
   "cell_type": "markdown",
   "metadata": {},
   "source": [
    "#### PREDICTION "
   ]
  },
  {
   "cell_type": "code",
   "execution_count": 61,
   "metadata": {},
   "outputs": [
    {
     "data": {
      "text/plain": [
       "array([1, 0, 1, ..., 0, 1, 0], dtype=int64)"
      ]
     },
     "execution_count": 61,
     "metadata": {},
     "output_type": "execute_result"
    }
   ],
   "source": [
    "G_pred = clf_gb.predict(X_test)\n",
    "G_pred"
   ]
  },
  {
   "cell_type": "code",
   "execution_count": 63,
   "metadata": {},
   "outputs": [],
   "source": [
    "#confusion_matrix = confusion_matrix(y_test, G_pred)\n",
    "#confusion_matrix"
   ]
  },
  {
   "cell_type": "markdown",
   "metadata": {},
   "source": [
    "#### EVALUATION"
   ]
  },
  {
   "cell_type": "code",
   "execution_count": 64,
   "metadata": {},
   "outputs": [
    {
     "data": {
      "text/plain": [
       "0.8357763073400899"
      ]
     },
     "execution_count": 64,
     "metadata": {},
     "output_type": "execute_result"
    }
   ],
   "source": [
    "accuracy=accuracy_score(y_test, G_pred)\n",
    "accuracy "
   ]
  },
  {
   "cell_type": "code",
   "execution_count": 65,
   "metadata": {},
   "outputs": [
    {
     "name": "stdout",
     "output_type": "stream",
     "text": [
      "Training score: \n",
      "[0.83441617 0.83382992 0.83099401]\n"
     ]
    }
   ],
   "source": [
    "print('Training score: ')\n",
    "print(cross_val_score(clf_gb, X_train, y_train, cv=3)) \n"
   ]
  },
  {
   "cell_type": "code",
   "execution_count": 66,
   "metadata": {},
   "outputs": [
    {
     "name": "stdout",
     "output_type": "stream",
     "text": [
      "              precision    recall  f1-score   support\n",
      "\n",
      "           0       0.84      0.91      0.88     22704\n",
      "           1       0.82      0.71      0.76     13113\n",
      "\n",
      "   micro avg       0.84      0.84      0.84     35817\n",
      "   macro avg       0.83      0.81      0.82     35817\n",
      "weighted avg       0.83      0.84      0.83     35817\n",
      "\n"
     ]
    }
   ],
   "source": [
    "#Let's see how our model perform\n",
    "print(classification_report(y_test, G_pred))\n",
    "#print(confusion_matrix(y_test, pred_gb))"
   ]
  },
  {
   "cell_type": "code",
   "execution_count": null,
   "metadata": {},
   "outputs": [],
   "source": []
  }
 ],
 "metadata": {
  "kernelspec": {
   "display_name": "Python 3",
   "language": "python",
   "name": "python3"
  },
  "language_info": {
   "codemirror_mode": {
    "name": "ipython",
    "version": 3
   },
   "file_extension": ".py",
   "mimetype": "text/x-python",
   "name": "python",
   "nbconvert_exporter": "python",
   "pygments_lexer": "ipython3",
   "version": "3.7.3"
  }
 },
 "nbformat": 4,
 "nbformat_minor": 2
}
